{
 "cells": [
  {
   "cell_type": "code",
   "execution_count": null,
   "metadata": {},
   "outputs": [],
   "source": [
    "# I use this to define functions\n",
    "def add(x, y):\n",
    "    return x + y\n",
    "\n",
    "def subtract(x, y):\n",
    "    return x - y\n",
    "\n",
    "def multiply(x, y):\n",
    "    return x * y\n",
    "\n",
    "def divide(x, y):\n",
    "    return x / y\n",
    "\n",
    "#This is where the user selects what operation they want to use\n",
    "print(\"1.Addition\")\n",
    "print(\"2.Subtraction\")\n",
    "print(\"3.Multiplication\")\n",
    "print(\"4.Divison\")\n",
    "operation=input(\"Choose and enter a number that corresponds to the operation: \")\n",
    "\n",
    "#This is where the python asks the user to put in numbers they want to calculate; I made it float instade in int because the user might want to calculate decimal numbers.  \n",
    "num1= float (input(\"Enter first number: \"))\n",
    "num2= float (input(\"Enter second number: \"))\n",
    "\n",
    "#This is where when you put the calculation happens; for example if a user want to add the code will get num1+num2 and give you the result\n",
    "if operation== \"1\":\n",
    "    print(num1 + num2)\n",
    "elif operation== \"2\":\n",
    "    print(num1 - num2)\n",
    "elif operation ==\"3\":\n",
    "    print(num1 * num2)\n",
    "elif operation== \"4\":\n",
    "    print (num1 / num2)\n",
    "# If the user puts in anything else than + - * / they will get Invlaid operator message\n",
    "else:\n",
    "    print (\"Invalid operator\")    "
   ]
  },
  {
   "cell_type": "code",
   "execution_count": null,
   "metadata": {},
   "outputs": [],
   "source": []
  }
 ],
 "metadata": {
  "kernelspec": {
   "display_name": "Python 3",
   "language": "python",
   "name": "python3"
  },
  "language_info": {
   "codemirror_mode": {
    "name": "ipython",
    "version": 3
   },
   "file_extension": ".py",
   "mimetype": "text/x-python",
   "name": "python",
   "nbconvert_exporter": "python",
   "pygments_lexer": "ipython3",
   "version": "3.8.5"
  }
 },
 "nbformat": 4,
 "nbformat_minor": 4
}
